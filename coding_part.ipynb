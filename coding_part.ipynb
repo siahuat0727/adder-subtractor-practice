{
 "cells": [
  {
   "cell_type": "code",
   "execution_count": 1,
   "metadata": {
    "scrolled": true
   },
   "outputs": [
    {
     "name": "stderr",
     "output_type": "stream",
     "text": [
      "Using TensorFlow backend.\n"
     ]
    }
   ],
   "source": [
    "from keras.models import Sequential\n",
    "from keras import layers\n",
    "import numpy as np\n",
    "from six.moves import range"
   ]
  },
  {
   "cell_type": "code",
   "execution_count": 2,
   "metadata": {},
   "outputs": [],
   "source": [
    "import matplotlib.pyplot as plt\n",
    "%matplotlib inline"
   ]
  },
  {
   "cell_type": "markdown",
   "metadata": {},
   "source": [
    "# Parameters Config"
   ]
  },
  {
   "cell_type": "code",
   "execution_count": 3,
   "metadata": {},
   "outputs": [],
   "source": [
    "class colors:\n",
    "    ok = '\\033[92m'\n",
    "    fail = '\\033[91m'\n",
    "    close = '\\033[0m'"
   ]
  },
  {
   "cell_type": "code",
   "execution_count": 4,
   "metadata": {},
   "outputs": [],
   "source": [
    "class CharacterTable(object):\n",
    "    def __init__(self, chars):\n",
    "        self.chars = sorted(set(chars))\n",
    "        self.char_indices = dict((c, i) for i, c in enumerate(self.chars))\n",
    "        self.indices_char = dict((i, c) for i, c in enumerate(self.chars))\n",
    "    \n",
    "    def encode(self, C, num_rows):\n",
    "        x = np.zeros((num_rows, len(self.chars)))\n",
    "        for i, c in enumerate(C):\n",
    "            x[i, self.char_indices[c]] = 1\n",
    "        return x\n",
    "    \n",
    "    def decode(self, x, calc_argmax=True):\n",
    "        if calc_argmax:\n",
    "            x = x.argmax(axis=-1)\n",
    "        return \"\".join(self.indices_char[i] for i in x)"
   ]
  },
  {
   "cell_type": "markdown",
   "metadata": {},
   "source": [
    "# Data Generation"
   ]
  },
  {
   "cell_type": "code",
   "execution_count": 5,
   "metadata": {},
   "outputs": [],
   "source": [
    "def gen_data(size, op, max_len, digits, reverse=False):\n",
    "    if op not in '+-':\n",
    "        raise Exception(\"Only supprt '+' and '-' operation\")\n",
    "    questions = []\n",
    "    expected = []\n",
    "    seen = set()\n",
    "    while len(questions) < size:\n",
    "        f = lambda: int(''.join(np.random.choice(list('0123456789')) for i in range(np.random.randint(1, digits + 1))))\n",
    "        a, b = f(), f()\n",
    "        key = tuple(sorted((a, b)))\n",
    "        if key in seen:\n",
    "            continue\n",
    "        seen.add(key)\n",
    "        if op == '-' and a < b:\n",
    "            a, b = b, a\n",
    "        q = '{}{}{}'.format(a, op, b)\n",
    "        query = q + ' ' * (max_len - len(q))\n",
    "        ans = str(eval(q))\n",
    "        ans += ' ' * (digits + 1 - len(ans))\n",
    "        if reverse:\n",
    "            query = query[::-1]\n",
    "        questions.append(query)\n",
    "        expected.append(ans)\n",
    "    return questions, expected"
   ]
  },
  {
   "cell_type": "markdown",
   "metadata": {},
   "source": [
    "# Processing"
   ]
  },
  {
   "cell_type": "code",
   "execution_count": 6,
   "metadata": {},
   "outputs": [],
   "source": [
    "def vectorization(questions, expected, ctable, max_len, digits):\n",
    "    x = np.zeros((len(questions), max_len, len(chars)), dtype=np.bool)\n",
    "    y = np.zeros((len(expected), digits + 1, len(chars)), dtype=np.bool)\n",
    "    for i, sentence in enumerate(questions):\n",
    "        x[i] = ctable.encode(sentence, max_len)\n",
    "    for i, sentence in enumerate(expected):\n",
    "        y[i] = ctable.encode(sentence, digits + 1)\n",
    "    return x, y"
   ]
  },
  {
   "cell_type": "code",
   "execution_count": 7,
   "metadata": {},
   "outputs": [],
   "source": [
    "def train_test_split(x, y):\n",
    "    indices = np.arange(len(y))\n",
    "    np.random.shuffle(indices)\n",
    "    x = x[indices]\n",
    "    y = y[indices]\n",
    "\n",
    "    # train_test_split\n",
    "    split_at = len(y) - len(y)//10\n",
    "    x_train = x[:split_at]\n",
    "    y_train = y[:split_at]\n",
    "    x_val = x[split_at:]\n",
    "    y_val = y[split_at:]\n",
    "\n",
    "    print('Training Data:')\n",
    "    print(x_train.shape)\n",
    "    print(y_train.shape)\n",
    "\n",
    "    print('Testing Data:')\n",
    "    print(x_val.shape)\n",
    "    print(y_val.shape)\n",
    "\n",
    "    return x_train, x_val, y_train, y_val"
   ]
  },
  {
   "cell_type": "markdown",
   "metadata": {},
   "source": [
    "# Build Model"
   ]
  },
  {
   "cell_type": "code",
   "execution_count": 8,
   "metadata": {},
   "outputs": [],
   "source": [
    "def build_model(hidden_size, max_len, digits, chars, rnn=layers.LSTM):\n",
    "    print('Build model...')\n",
    "\n",
    "    model = Sequential()\n",
    "    model.add(rnn(hidden_size, input_shape=(max_len, len(chars))))\n",
    "    model.add(layers.RepeatVector(digits + 1))\n",
    "    model.add(rnn(hidden_size, return_sequences=True))\n",
    "    model.add(layers.TimeDistributed(layers.Dense(len(chars), activation='softmax')))\n",
    "    model.compile(loss='categorical_crossentropy',\n",
    "                  optimizer='adam',\n",
    "                  metrics=['accuracy'])\n",
    "    model.summary()\n",
    "    return model"
   ]
  },
  {
   "cell_type": "markdown",
   "metadata": {},
   "source": [
    "# Training"
   ]
  },
  {
   "cell_type": "code",
   "execution_count": 9,
   "metadata": {},
   "outputs": [],
   "source": [
    "def train(model, x_train, x_val, y_train, y_val, epochs, batch_size=128, verbose=False):\n",
    "    return model.fit(x_train,\n",
    "                     y_train,\n",
    "                     batch_size=batch_size,\n",
    "                     epochs=epochs,\n",
    "                     validation_data=(x_val, y_val),\n",
    "                     verbose=verbose)\n",
    "\n",
    "def plot_result(result):\n",
    "    accs = ['acc', 'val_acc']\n",
    "    for acc in accs:\n",
    "        plt.plot(result.history[acc])\n",
    "    plt.legend(accs)\n",
    "    plt.xlabel('epochs')\n",
    "    plt.ylabel('accuracy')\n",
    "    plt.show()\n",
    "    \n",
    "def accuracy(model, x_val, y_val):\n",
    "    return model.evaluate(x_val, y_val)[1]\n",
    "\n",
    "def result_sampling(model, x_val, y_val, ctable, num_sample=10, reverse=False):\n",
    "    for i in range(num_sample):\n",
    "        ind = np.random.randint(0, len(x_val))\n",
    "        rowx, rowy = x_val[np.array([ind])], y_val[np.array([ind])]\n",
    "        preds = model.predict_classes(rowx, verbose=0)\n",
    "        q = ctable.decode(rowx[0])\n",
    "        correct = ctable.decode(rowy[0])\n",
    "        guess = ctable.decode(preds[0], calc_argmax=False)\n",
    "        print('Q', q[::-1] if reverse else q, end=' ')\n",
    "        print('T', correct, end=' ')\n",
    "        if correct == guess:\n",
    "            print(colors.ok + '☑' + colors.close, end=' ')\n",
    "        else:\n",
    "            print(colors.fail + '☒' + colors.close, end=' ')\n",
    "        print(guess)"
   ]
  },
  {
   "cell_type": "markdown",
   "metadata": {},
   "source": [
    "## 1. Adder"
   ]
  },
  {
   "cell_type": "markdown",
   "metadata": {},
   "source": [
    "### Config"
   ]
  },
  {
   "cell_type": "code",
   "execution_count": 10,
   "metadata": {},
   "outputs": [],
   "source": [
    "chars = '0123456789+ '\n",
    "ctable = CharacterTable(chars)\n",
    "digits = 3\n",
    "max_len = digits + 1 + digits\n",
    "epochs = 100\n",
    "hidden_size = 128\n",
    "data_size = 20000"
   ]
  },
  {
   "cell_type": "markdown",
   "metadata": {},
   "source": [
    "### Generate data"
   ]
  },
  {
   "cell_type": "code",
   "execution_count": 11,
   "metadata": {
    "scrolled": true
   },
   "outputs": [
    {
     "name": "stdout",
     "output_type": "stream",
     "text": [
      "Training Data:\n",
      "(18000, 7, 12)\n",
      "(18000, 4, 12)\n",
      "Testing Data:\n",
      "(2000, 7, 12)\n",
      "(2000, 4, 12)\n"
     ]
    }
   ],
   "source": [
    "xs, ys = gen_data(data_size, '+', max_len, digits)\n",
    "xs, ys = vectorization(xs, ys, ctable, max_len, digits)\n",
    "x_train, x_val, y_train, y_val = train_test_split(xs, ys)"
   ]
  },
  {
   "cell_type": "markdown",
   "metadata": {},
   "source": [
    "### Build model and train"
   ]
  },
  {
   "cell_type": "code",
   "execution_count": 12,
   "metadata": {},
   "outputs": [
    {
     "name": "stdout",
     "output_type": "stream",
     "text": [
      "Build model...\n",
      "_________________________________________________________________\n",
      "Layer (type)                 Output Shape              Param #   \n",
      "=================================================================\n",
      "lstm_1 (LSTM)                (None, 128)               72192     \n",
      "_________________________________________________________________\n",
      "repeat_vector_1 (RepeatVecto (None, 4, 128)            0         \n",
      "_________________________________________________________________\n",
      "lstm_2 (LSTM)                (None, 4, 128)            131584    \n",
      "_________________________________________________________________\n",
      "time_distributed_1 (TimeDist (None, 4, 12)             1548      \n",
      "=================================================================\n",
      "Total params: 205,324\n",
      "Trainable params: 205,324\n",
      "Non-trainable params: 0\n",
      "_________________________________________________________________\n"
     ]
    }
   ],
   "source": [
    "model = build_model(hidden_size=hidden_size, max_len=max_len, digits=digits, chars=chars)\n",
    "result = train(model, x_train, x_val, y_train, y_val, epochs)"
   ]
  },
  {
   "cell_type": "markdown",
   "metadata": {},
   "source": [
    "### Analysis"
   ]
  },
  {
   "cell_type": "code",
   "execution_count": 13,
   "metadata": {},
   "outputs": [
    {
     "data": {
      "image/png": "[encoded data removed]",
      "text/plain": [
       "<Figure size 432x288 with 1 Axes>"
      ]
     },
     "metadata": {
      "needs_background": "light"
     },
     "output_type": "display_data"
    },
    {
     "name": "stdout",
     "output_type": "stream",
     "text": [
      "Q 5+468   T 473  \u001b[91m☒\u001b[0m 474 \n",
      "Q 987+4   T 991  \u001b[91m☒\u001b[0m 992 \n",
      "Q 820+823 T 1643 \u001b[91m☒\u001b[0m 1633\n",
      "Q 47+573  T 620  \u001b[92m☑\u001b[0m 620 \n",
      "Q 1+206   T 207  \u001b[91m☒\u001b[0m 106 \n",
      "Q 723+53  T 776  \u001b[92m☑\u001b[0m 776 \n",
      "Q 9+686   T 695  \u001b[92m☑\u001b[0m 695 \n",
      "Q 180+757 T 937  \u001b[92m☑\u001b[0m 937 \n",
      "Q 160+11  T 171  \u001b[91m☒\u001b[0m 161 \n",
      "Q 6+122   T 128  \u001b[91m☒\u001b[0m 127 \n",
      "2000/2000 [==============================] - 0s 75us/step\n",
      "Test accuracy: 0.893625\n"
     ]
    }
   ],
   "source": [
    "plot_result(result)\n",
    "result_sampling(model, x_val, y_val, ctable)\n",
    "print('Test accuracy: {}'.format(accuracy(model, x_val, y_val)))"
   ]
  },
  {
   "cell_type": "markdown",
   "metadata": {},
   "source": [
    "## 2. Subtractor"
   ]
  },
  {
   "cell_type": "markdown",
   "metadata": {},
   "source": [
    "### Config"
   ]
  },
  {
   "cell_type": "code",
   "execution_count": 14,
   "metadata": {},
   "outputs": [],
   "source": [
    "chars = '0123456789- '\n",
    "ctable = CharacterTable(chars)\n",
    "digits = 3\n",
    "max_len = digits + 1 + digits\n",
    "epochs = 100\n",
    "hidden_size = 128\n",
    "data_size = 20000"
   ]
  },
  {
   "cell_type": "markdown",
   "metadata": {},
   "source": [
    "### Generate data"
   ]
  },
  {
   "cell_type": "code",
   "execution_count": 15,
   "metadata": {
    "scrolled": false
   },
   "outputs": [
    {
     "name": "stdout",
     "output_type": "stream",
     "text": [
      "Training Data:\n",
      "(18000, 7, 12)\n",
      "(18000, 4, 12)\n",
      "Testing Data:\n",
      "(2000, 7, 12)\n",
      "(2000, 4, 12)\n"
     ]
    }
   ],
   "source": [
    "xs, ys = gen_data(data_size, '-', max_len, digits)\n",
    "xs, ys = vectorization(xs, ys, ctable, max_len, digits)\n",
    "x_train, x_val, y_train, y_val = train_test_split(xs, ys)"
   ]
  },
  {
   "cell_type": "markdown",
   "metadata": {},
   "source": [
    "### Build model and train"
   ]
  },
  {
   "cell_type": "code",
   "execution_count": 16,
   "metadata": {},
   "outputs": [
    {
     "name": "stdout",
     "output_type": "stream",
     "text": [
      "Build model...\n",
      "_________________________________________________________________\n",
      "Layer (type)                 Output Shape              Param #   \n",
      "=================================================================\n",
      "lstm_3 (LSTM)                (None, 128)               72192     \n",
      "_________________________________________________________________\n",
      "repeat_vector_2 (RepeatVecto (None, 4, 128)            0         \n",
      "_________________________________________________________________\n",
      "lstm_4 (LSTM)                (None, 4, 128)            131584    \n",
      "_________________________________________________________________\n",
      "time_distributed_2 (TimeDist (None, 4, 12)             1548      \n",
      "=================================================================\n",
      "Total params: 205,324\n",
      "Trainable params: 205,324\n",
      "Non-trainable params: 0\n",
      "_________________________________________________________________\n"
     ]
    }
   ],
   "source": [
    "model = build_model(hidden_size=hidden_size, max_len=max_len, digits=digits, chars=chars)\n",
    "result = train(model, x_train, x_val, y_train, y_val, epochs)"
   ]
  },
  {
   "cell_type": "markdown",
   "metadata": {},
   "source": [
    "### Analysis"
   ]
  },
  {
   "cell_type": "code",
   "execution_count": 17,
   "metadata": {},
   "outputs": [
    {
     "data": {
      "image/png": "[encoded data removed]",
      "text/plain": [
       "<Figure size 432x288 with 1 Axes>"
      ]
     },
     "metadata": {
      "needs_background": "light"
     },
     "output_type": "display_data"
    },
    {
     "name": "stdout",
     "output_type": "stream",
     "text": [
      "Q 908-53  T 855  \u001b[92m☑\u001b[0m 855 \n",
      "Q 811-30  T 781  \u001b[91m☒\u001b[0m 780 \n",
      "Q 655-59  T 596  \u001b[92m☑\u001b[0m 596 \n",
      "Q 390-2   T 388  \u001b[92m☑\u001b[0m 388 \n",
      "Q 911-197 T 714  \u001b[92m☑\u001b[0m 714 \n",
      "Q 123-4   T 119  \u001b[92m☑\u001b[0m 119 \n",
      "Q 807-301 T 506  \u001b[91m☒\u001b[0m 507 \n",
      "Q 388-77  T 311  \u001b[92m☑\u001b[0m 311 \n",
      "Q 250-37  T 213  \u001b[92m☑\u001b[0m 213 \n",
      "Q 816-590 T 226  \u001b[91m☒\u001b[0m 216 \n",
      "2000/2000 [==============================] - 0s 70us/step\n",
      "Test accuracy: 0.967\n"
     ]
    }
   ],
   "source": [
    "plot_result(result)\n",
    "result_sampling(model, x_val, y_val, ctable)\n",
    "print('Test accuracy: {}'.format(accuracy(model, x_val, y_val)))"
   ]
  },
  {
   "cell_type": "markdown",
   "metadata": {},
   "source": [
    "## 3. Combine adder and subtractor"
   ]
  },
  {
   "cell_type": "markdown",
   "metadata": {},
   "source": [
    "### Config"
   ]
  },
  {
   "cell_type": "code",
   "execution_count": 18,
   "metadata": {},
   "outputs": [],
   "source": [
    "chars = '0123456789+- '\n",
    "ctable = CharacterTable(chars)\n",
    "digits = 3\n",
    "max_len = digits + 1 + digits\n",
    "epochs = 100\n",
    "hidden_size = 128\n",
    "data_size = 20000"
   ]
  },
  {
   "cell_type": "markdown",
   "metadata": {},
   "source": [
    "### Generate data"
   ]
  },
  {
   "cell_type": "code",
   "execution_count": 19,
   "metadata": {
    "scrolled": true
   },
   "outputs": [
    {
     "name": "stdout",
     "output_type": "stream",
     "text": [
      "Training Data:\n",
      "(18000, 7, 13)\n",
      "(18000, 4, 13)\n",
      "Testing Data:\n",
      "(2000, 7, 13)\n",
      "(2000, 4, 13)\n"
     ]
    }
   ],
   "source": [
    "xs_add, ys_add = gen_data(data_size//2, '+', max_len, digits)\n",
    "xs_sub, ys_sub = gen_data(data_size//2, '-', max_len, digits)\n",
    "xs = xs_add + xs_sub\n",
    "ys = ys_add + ys_sub\n",
    "xs, ys = vectorization(xs, ys, ctable, max_len, digits)\n",
    "x_train, x_val, y_train, y_val = train_test_split(xs, ys)"
   ]
  },
  {
   "cell_type": "markdown",
   "metadata": {},
   "source": [
    "### Build model and train"
   ]
  },
  {
   "cell_type": "code",
   "execution_count": 20,
   "metadata": {},
   "outputs": [
    {
     "name": "stdout",
     "output_type": "stream",
     "text": [
      "Build model...\n",
      "_________________________________________________________________\n",
      "Layer (type)                 Output Shape              Param #   \n",
      "=================================================================\n",
      "lstm_5 (LSTM)                (None, 128)               72704     \n",
      "_________________________________________________________________\n",
      "repeat_vector_3 (RepeatVecto (None, 4, 128)            0         \n",
      "_________________________________________________________________\n",
      "lstm_6 (LSTM)                (None, 4, 128)            131584    \n",
      "_________________________________________________________________\n",
      "time_distributed_3 (TimeDist (None, 4, 13)             1677      \n",
      "=================================================================\n",
      "Total params: 205,965\n",
      "Trainable params: 205,965\n",
      "Non-trainable params: 0\n",
      "_________________________________________________________________\n"
     ]
    }
   ],
   "source": [
    "model = build_model(hidden_size=hidden_size, max_len=max_len, digits=digits, chars=chars)\n",
    "result = train(model, x_train, x_val, y_train, y_val, epochs)"
   ]
  },
  {
   "cell_type": "markdown",
   "metadata": {},
   "source": [
    "### Analysis"
   ]
  },
  {
   "cell_type": "code",
   "execution_count": 21,
   "metadata": {},
   "outputs": [
    {
     "data": {
      "image/png": "[encoded data removed]",
      "text/plain": [
       "<Figure size 432x288 with 1 Axes>"
      ]
     },
     "metadata": {
      "needs_background": "light"
     },
     "output_type": "display_data"
    },
    {
     "name": "stdout",
     "output_type": "stream",
     "text": [
      "Q 502-7   T 495  \u001b[92m☑\u001b[0m 495 \n",
      "Q 387-39  T 348  \u001b[91m☒\u001b[0m 349 \n",
      "Q 76+943  T 1019 \u001b[91m☒\u001b[0m 1020\n",
      "Q 995-3   T 992  \u001b[92m☑\u001b[0m 992 \n",
      "Q 412-8   T 404  \u001b[92m☑\u001b[0m 404 \n",
      "Q 608-53  T 555  \u001b[92m☑\u001b[0m 555 \n",
      "Q 6+995   T 1001 \u001b[92m☑\u001b[0m 1001\n",
      "Q 9+392   T 401  \u001b[92m☑\u001b[0m 401 \n",
      "Q 995+105 T 1100 \u001b[91m☒\u001b[0m 1102\n",
      "Q 910-37  T 873  \u001b[91m☒\u001b[0m 863 \n",
      "2000/2000 [==============================] - 0s 68us/step\n",
      "Test accuracy: 0.853625\n"
     ]
    }
   ],
   "source": [
    "plot_result(result)\n",
    "result_sampling(model, x_val, y_val, ctable)\n",
    "print('Test accuracy: {}'.format(accuracy(model, x_val, y_val)))"
   ]
  }
 ],
 "metadata": {
  "kernelspec": {
   "display_name": "venv36",
   "language": "python",
   "name": "venv36"
  },
  "language_info": {
   "codemirror_mode": {
    "name": "ipython",
    "version": 3
   },
   "file_extension": ".py",
   "mimetype": "text/x-python",
   "name": "python",
   "nbconvert_exporter": "python",
   "pygments_lexer": "ipython3",
   "version": "3.6.8"
  }
 },
 "nbformat": 4,
 "nbformat_minor": 2
}
